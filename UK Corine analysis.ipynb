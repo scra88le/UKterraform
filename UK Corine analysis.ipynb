{
 "cells": [
  {
   "cell_type": "code",
   "execution_count": null,
   "id": "5b9180a1",
   "metadata": {},
   "outputs": [],
   "source": [
    "# Import relevant packaages\n",
    "import ee\n",
    "import geemap"
   ]
  },
  {
   "cell_type": "code",
   "execution_count": null,
   "id": "c4f94581",
   "metadata": {},
   "outputs": [],
   "source": [
    "# Initialisie earth engine\n",
    "ee.Authenticate()\n",
    "ee.Initialize()"
   ]
  },
  {
   "cell_type": "code",
   "execution_count": null,
   "id": "116c1cbd",
   "metadata": {},
   "outputs": [],
   "source": [
    "# magic command to render plots in notebook\n",
    "%matplotlib inline"
   ]
  },
  {
   "cell_type": "markdown",
   "id": "05b47ec2",
   "metadata": {},
   "source": [
    "### Broadleaf cover"
   ]
  },
  {
   "cell_type": "code",
   "execution_count": null,
   "id": "b88715f0",
   "metadata": {},
   "outputs": [],
   "source": [
    "# Load a polygon of the UK so that we can clip the CORINE dataset\n",
    "ukPoly = ee.FeatureCollection('USDOS/LSIB_SIMPLE/2017') \\\n",
    "         .filter(ee.Filter.eq('country_co', 'UK'))\n",
    "\n",
    "# Load the Corine landcover categorisation for 2018 (the latest)\n",
    "# Each pixel represents 100m x 100m or 1 hectare\n",
    "# Select the landcover band and clip to the UK border\n",
    "corine = ee.Image('COPERNICUS/CORINE/V20/100m/2018') \\\n",
    "    .select('landcover') \\\n",
    "    .clipToCollection(ukPoly)\n",
    "\n",
    "# Select pixels that represent Broadleaf categorisation (311)\n",
    "mask = corine.eq(311)\n",
    "# Generate a broadleaf image by using the mask for 311\n",
    "broadleaf = mask.updateMask(mask).multiply(corine)"
   ]
  },
  {
   "cell_type": "code",
   "execution_count": null,
   "id": "d3769f99",
   "metadata": {},
   "outputs": [],
   "source": [
    "# Create a map\n",
    "Map = geemap.Map()\n",
    "# Centre on the UK\n",
    "Map.setCenter(-1.2589, 51.7521, 8)\n",
    "# Plot the map\n",
    "Map.addLayer(broadleaf, {'palette' : 'red'}, 'Broadleaf', True)"
   ]
  },
  {
   "cell_type": "markdown",
   "id": "dfdff5d9",
   "metadata": {},
   "source": [
    "If we load the administrative boundariies for the Uk, we can plot them and then calculate the percentage of landcover within a county that is broadleaf woodland."
   ]
  },
  {
   "cell_type": "code",
   "execution_count": null,
   "id": "861de238",
   "metadata": {},
   "outputs": [],
   "source": [
    "# Select UK Counties from the GAUL feature collection\n",
    "# \"U.K. of Great Britain and Northern Ireland\"\n",
    "\n",
    "uk = ee.FeatureCollection(\"FAO/GAUL_SIMPLIFIED_500m/2015/level2\") \\\n",
    "              .filter(ee.Filter.eq('ADM0_NAME', \"U.K. of Great Britain and Northern Ireland\") \\\n",
    ")"
   ]
  },
  {
   "cell_type": "markdown",
   "id": "d546aa2f",
   "metadata": {},
   "source": [
    "Let's visualise the broadleaf woodland and county boundaries"
   ]
  },
  {
   "cell_type": "code",
   "execution_count": null,
   "id": "c6be6629",
   "metadata": {},
   "outputs": [],
   "source": [
    "# Plot map\n",
    "Map.addLayer(uk, {}, 'uk counties')\n",
    "Map"
   ]
  },
  {
   "cell_type": "markdown",
   "id": "cb2726a2",
   "metadata": {},
   "source": [
    "What is the total area of broadleaf woodland within the UK? Let's start with the total area of the UK"
   ]
  },
  {
   "cell_type": "code",
   "execution_count": null,
   "id": "c805e934",
   "metadata": {},
   "outputs": [],
   "source": [
    "# disolve feature collection into single polygon\n",
    "# then extract area\n",
    "# convert from m2 to km2\n",
    "area = uk.geometry().area().getInfo()/1e6\n",
    "print(\"Total uk land area: \", area, \" km2\")"
   ]
  },
  {
   "cell_type": "markdown",
   "id": "294dd5e0",
   "metadata": {},
   "source": [
    "Then we can work out the total area covered by broadleaf woodland"
   ]
  },
  {
   "cell_type": "code",
   "execution_count": null,
   "id": "71352159",
   "metadata": {},
   "outputs": [],
   "source": [
    "areaImage = mask.multiply(ee.Image.pixelArea())\n",
    "area = areaImage.reduceRegion(\n",
    "    reducer   = ee.Reducer.sum(),\n",
    "    geometry  = uk.geometry(),\n",
    "    scale     = 100,\n",
    "    maxPixels = 1e10\n",
    "    )"
   ]
  },
  {
   "cell_type": "code",
   "execution_count": null,
   "id": "f88c4249",
   "metadata": {},
   "outputs": [],
   "source": [
    "broadleafCover = area.getInfo()"
   ]
  },
  {
   "cell_type": "markdown",
   "id": "fc1b1063",
   "metadata": {},
   "source": [
    "What is the total area of broadleaf trees iin the UK?"
   ]
  },
  {
   "cell_type": "code",
   "execution_count": null,
   "id": "da35644f",
   "metadata": {},
   "outputs": [],
   "source": [
    "print(\"Total uk broadleaf forest area: \", broadleafCover[\"landcover\"] / (1e6), \" km2\")"
   ]
  },
  {
   "cell_type": "markdown",
   "id": "2d4efca0",
   "metadata": {},
   "source": [
    "### Broadleaf woodland area by UK county"
   ]
  },
  {
   "cell_type": "markdown",
   "id": "9c89c0f7",
   "metadata": {},
   "source": [
    "Not let's calculate the percentage broadleaf cover for each UK county, and then order them"
   ]
  },
  {
   "cell_type": "code",
   "execution_count": null,
   "id": "7ee68f7f",
   "metadata": {},
   "outputs": [],
   "source": [
    "# Define broadleaf mask for UK\n",
    "ukBroadleafImage = mask.multiply(ee.Image.pixelArea())\n",
    "\n",
    "# Functionn to map over counties (features) within UK featureCollection\n",
    "def mapCounties(county):\n",
    "    \n",
    "    # Calculate county area and set property\n",
    "    countyArea = county.geometry().area().divide(1e6).round()\n",
    "    # Set a property within the county feature to capture the county area\n",
    "    county = county.set('County_Area', countyArea)\n",
    "    \n",
    "    # Calculate broadleaf area within county\n",
    "    broadleafArea = ukBroadleafImage.reduceRegion(\n",
    "        reducer   = ee.Reducer.sum(),\n",
    "        geometry  = county.geometry(),\n",
    "        scale     = 100,\n",
    "        maxPixels = 1e10\n",
    "    ).get(\"landcover\")\n",
    "    \n",
    "    # Convert broadleaf area into km2\n",
    "    broadleafArea = ee.Number.float(broadleafArea).divide(1e6)\n",
    "    \n",
    "    # Set a property within the county feature to capture broadleaf area for the county\n",
    "    county = county.set('Broadleaf_Area', broadleafArea)\n",
    "    \n",
    "    # Percentage broadleaf\n",
    "    percentageBroadleaf = broadleafArea.divide(countyArea).multiply(100)\n",
    "    # Set a property within the county feature to capture the % broadleaf\n",
    "    county = county.set('Broadleaf_Per', percentageBroadleaf)\n",
    "\n",
    "    # return updated feature\n",
    "    return county\n",
    "    \n",
    "# Map over uk counties and calulcate the county area and the broadleaf woodland area within it\n",
    "broadleafAreaByCounty = uk.map(mapCounties)"
   ]
  },
  {
   "cell_type": "code",
   "execution_count": null,
   "id": "6dc80d4d",
   "metadata": {},
   "outputs": [],
   "source": [
    "broadleafAreaByCounty.aggregate_sum(\"Broadleaf_Area\").getInfo()"
   ]
  },
  {
   "cell_type": "code",
   "execution_count": null,
   "id": "e8472611",
   "metadata": {},
   "outputs": [],
   "source": [
    "broadleafByCounty_df = geemap.ee_to_df(broadleafAreaByCounty)"
   ]
  },
  {
   "cell_type": "code",
   "execution_count": null,
   "id": "6c65c928",
   "metadata": {
    "scrolled": false
   },
   "outputs": [],
   "source": [
    "broadleafByCounty_df[[\"ADM2_NAME\",\"County_Area\",\"Broadleaf_Area\",\"Broadleaf_Per\"]] \\\n",
    ".sort_values(\"Broadleaf_Per\", ascending=False) \\\n",
    ".head(10)"
   ]
  },
  {
   "cell_type": "markdown",
   "id": "71a6a711",
   "metadata": {},
   "source": [
    "Plot of percentage of broadleaf coverage across the UK"
   ]
  },
  {
   "cell_type": "code",
   "execution_count": null,
   "id": "c322f59b",
   "metadata": {
    "scrolled": true
   },
   "outputs": [],
   "source": [
    "empty = ee.Image().byte()\n",
    "\n",
    "# Paint all the county polygon edges with the same number and width, display.\n",
    "outline = empty.paint(\n",
    "  featureCollection = broadleafAreaByCounty,\n",
    "  color = 'Broadleaf_Per'\n",
    ")\n",
    "visParams = {\n",
    "  'palette': ['white', 'green'],\n",
    "  'min': 0,\n",
    "  'max': 11,\n",
    "  'opacity': 1,\n",
    "}\n",
    "\n",
    "Map.addLayer(outline, visParams, 'broadleaf coverage')\n",
    "Map"
   ]
  },
  {
   "cell_type": "markdown",
   "id": "e03e62ad",
   "metadata": {},
   "source": [
    "### Broadleaf connectivity analysis"
   ]
  },
  {
   "cell_type": "markdown",
   "id": "034c2f5b",
   "metadata": {},
   "source": [
    "Broadleaf woods are clearly more dominant in the south east of England. Let's analyse how well connected they are, with the goal of working out how to enhance connectivity between broadleaf habitats, through wildlife friendly land management as per the UK governments *25 year plan for the Environment*"
   ]
  },
  {
   "cell_type": "markdown",
   "id": "5d1dfcb9",
   "metadata": {},
   "source": [
    "#### Vectorise the broadleaf layer"
   ]
  },
  {
   "cell_type": "markdown",
   "id": "67ba643d",
   "metadata": {},
   "source": [
    "Let's start with one county, Oxfordshire. by focusing on one county to start with, hopefully the initial analysis easier to understand."
   ]
  },
  {
   "cell_type": "code",
   "execution_count": 101,
   "id": "92e4637e",
   "metadata": {},
   "outputs": [],
   "source": [
    "# Generate polygon for Oxfordshire\n",
    "oxon = uk.filter(ee.Filter.eq('ADM2_NAME', \"Oxfordshire\"))\n",
    "\n",
    "# Vectorise all broadleaf pixels in Oxfordshire\n",
    "vectors = broadleaf.reduceToVectors(\n",
    "    reducer = ee.Reducer.countEvery(),\n",
    "    geometry = oxon,\n",
    "    scale = 100,\n",
    "    maxPixels = 1e8\n",
    ")\n",
    "\n",
    "# Put the result into a feature collection\n",
    "oxonBroadleaf = ee.FeatureCollection(vectors)\n",
    "\n",
    "# Now convert into a geopandas data frane\n",
    "oxonBroadleaf_df = geemap.ee_to_gdf(oxonBroadleaf)\n",
    "# Set and reproject to OSG36\n",
    "oxonBroadleaf_df = oxonBroadleaf_df.set_crs(epsg=4326)\n",
    "oxonBroadleaf_df = oxonBroadleaf_df.to_crs('epsg:27700')"
   ]
  },
  {
   "cell_type": "code",
   "execution_count": 132,
   "id": "96f58830",
   "metadata": {},
   "outputs": [
    {
     "data": {
      "text/html": [
       "<div>\n",
       "<style scoped>\n",
       "    .dataframe tbody tr th:only-of-type {\n",
       "        vertical-align: middle;\n",
       "    }\n",
       "\n",
       "    .dataframe tbody tr th {\n",
       "        vertical-align: top;\n",
       "    }\n",
       "\n",
       "    .dataframe thead th {\n",
       "        text-align: right;\n",
       "    }\n",
       "</style>\n",
       "<table border=\"1\" class=\"dataframe\">\n",
       "  <thead>\n",
       "    <tr style=\"text-align: right;\">\n",
       "      <th></th>\n",
       "      <th>geometry</th>\n",
       "      <th>count</th>\n",
       "      <th>label</th>\n",
       "    </tr>\n",
       "  </thead>\n",
       "  <tbody>\n",
       "    <tr>\n",
       "      <th>0</th>\n",
       "      <td>POLYGON ((424529.257 196170.443, 424628.068 19...</td>\n",
       "      <td>60</td>\n",
       "      <td>311</td>\n",
       "    </tr>\n",
       "    <tr>\n",
       "      <th>1</th>\n",
       "      <td>POLYGON ((424193.103 207339.909, 424390.719 20...</td>\n",
       "      <td>42</td>\n",
       "      <td>311</td>\n",
       "    </tr>\n",
       "    <tr>\n",
       "      <th>2</th>\n",
       "      <td>POLYGON ((428695.244 180882.898, 428794.054 18...</td>\n",
       "      <td>107</td>\n",
       "      <td>311</td>\n",
       "    </tr>\n",
       "    <tr>\n",
       "      <th>3</th>\n",
       "      <td>MULTIPOLYGON (((423212.696 218099.367, 423245....</td>\n",
       "      <td>35</td>\n",
       "      <td>311</td>\n",
       "    </tr>\n",
       "    <tr>\n",
       "      <th>4</th>\n",
       "      <td>MULTIPOLYGON (((422816.709 216820.087, 422915....</td>\n",
       "      <td>62</td>\n",
       "      <td>311</td>\n",
       "    </tr>\n",
       "  </tbody>\n",
       "</table>\n",
       "</div>"
      ],
      "text/plain": [
       "                                            geometry  count  label\n",
       "0  POLYGON ((424529.257 196170.443, 424628.068 19...     60    311\n",
       "1  POLYGON ((424193.103 207339.909, 424390.719 20...     42    311\n",
       "2  POLYGON ((428695.244 180882.898, 428794.054 18...    107    311\n",
       "3  MULTIPOLYGON (((423212.696 218099.367, 423245....     35    311\n",
       "4  MULTIPOLYGON (((422816.709 216820.087, 422915....     62    311"
      ]
     },
     "execution_count": 132,
     "metadata": {},
     "output_type": "execute_result"
    }
   ],
   "source": [
    "# Let's eyeball the data\n",
    "oxonBroadleaf_df.head()"
   ]
  },
  {
   "cell_type": "markdown",
   "id": "457de5a2",
   "metadata": {},
   "source": [
    "Looks like we need to first calculate the centroids for each of the woodland regions (polygon regions), before creating a graph to analyse"
   ]
  },
  {
   "cell_type": "code",
   "execution_count": null,
   "id": "5b82d544",
   "metadata": {},
   "outputs": [],
   "source": [
    "# import libraries that we need for further analysis\n",
    "from libpysal import weights\n",
    "import matplotlib.pyplot as plt\n",
    "import networkx as nx\n",
    "import geopandas\n",
    "import numpy as np"
   ]
  },
  {
   "cell_type": "code",
   "execution_count": 103,
   "id": "b4c1b815",
   "metadata": {},
   "outputs": [],
   "source": [
    "# calculate centorids for Oxon broadleaf woodlands\n",
    "centroids = np.column_stack((oxonBroadleaf_df.centroid.x, oxonBroadleaf_df.centroid.y))"
   ]
  },
  {
   "cell_type": "code",
   "execution_count": 177,
   "id": "dd5261f9",
   "metadata": {},
   "outputs": [],
   "source": [
    "## The 7km distance band graph will connect all pairs of points\n",
    "## that are within 7km from one another. This means that points\n",
    "## may have different numbers of neighbors.\n",
    "dist = weights.DistanceBand.from_array(centroids, threshold=5000)\n",
    "\n",
    "# Convert to a networkx obejct\n",
    "dist_graph = dist.to_networkx()\n",
    "\n",
    "# To plot with networkx, we need to merge the nodes back to\n",
    "# their positions in order to plot in networkx\n",
    "positions = dict(zip(dist_graph.nodes, centroids))"
   ]
  },
  {
   "cell_type": "markdown",
   "id": "42d10ecf",
   "metadata": {},
   "source": [
    "Now we can draw the graph, given that we connected all node centroids that are within 7.5km of each other. It can be seen that there are two distinct clusters of nodes that result from this strategy."
   ]
  },
  {
   "cell_type": "code",
   "execution_count": 178,
   "id": "2e3ff84b",
   "metadata": {},
   "outputs": [
    {
     "data": {
      "image/png": "[encoded data removed]",
      "text/plain": [
       "<Figure size 432x288 with 1 Axes>"
      ]
     },
     "metadata": {},
     "output_type": "display_data"
    }
   ],
   "source": [
    "nx.draw(dist_graph, positions, node_size=10, node_color=\"orange\")"
   ]
  },
  {
   "cell_type": "code",
   "execution_count": 170,
   "id": "b7687431",
   "metadata": {},
   "outputs": [],
   "source": [
    "knn5 = weights.KNN.from_dataframe(oxonBroadleaf_df,k=4)"
   ]
  },
  {
   "cell_type": "code",
   "execution_count": 171,
   "id": "4dc86373",
   "metadata": {},
   "outputs": [],
   "source": [
    "knn_graph = knn5.to_networkx()\n",
    "positions = dict(zip(knn_graph.nodes, centroids))"
   ]
  },
  {
   "cell_type": "code",
   "execution_count": 172,
   "id": "85207a5c",
   "metadata": {},
   "outputs": [
    {
     "data": {
      "image/png": "[encoded data removed]",
      "text/plain": [
       "<Figure size 432x288 with 1 Axes>"
      ]
     },
     "metadata": {},
     "output_type": "display_data"
    }
   ],
   "source": [
    "nx.draw(knn_graph, positions, node_size=5, node_color=\"orange\")"
   ]
  },
  {
   "cell_type": "code",
   "execution_count": null,
   "id": "22c15be1",
   "metadata": {},
   "outputs": [],
   "source": []
  }
 ],
 "metadata": {
  "kernelspec": {
   "display_name": "Python 3 (ipykernel)",
   "language": "python",
   "name": "python3"
  },
  "language_info": {
   "codemirror_mode": {
    "name": "ipython",
    "version": 3
   },
   "file_extension": ".py",
   "mimetype": "text/x-python",
   "name": "python",
   "nbconvert_exporter": "python",
   "pygments_lexer": "ipython3",
   "version": "3.9.7"
  }
 },
 "nbformat": 4,
 "nbformat_minor": 5
}
