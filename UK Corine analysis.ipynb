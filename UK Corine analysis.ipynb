{
 "cells": [
  {
   "cell_type": "code",
   "execution_count": 280,
   "id": "5b9180a1",
   "metadata": {},
   "outputs": [],
   "source": [
    "# Import relevant packaages\n",
    "import ee\n",
    "import geemap"
   ]
  },
  {
   "cell_type": "code",
   "execution_count": 281,
   "id": "c4f94581",
   "metadata": {},
   "outputs": [
    {
     "data": {
      "text/html": [
       "<p>To authorize access needed by Earth Engine, open the following\n",
       "        URL in a web browser and follow the instructions:</p>\n",
       "        <p><a href=https://accounts.google.com/o/oauth2/auth?client_id=517222506229-vsmmajv00ul0bs7p89v5m89qs8eb9359.apps.googleusercontent.com&scope=https%3A%2F%2Fwww.googleapis.com%2Fauth%2Fearthengine+https%3A%2F%2Fwww.googleapis.com%2Fauth%2Fdevstorage.full_control&redirect_uri=urn%3Aietf%3Awg%3Aoauth%3A2.0%3Aoob&response_type=code&code_challenge=fIPd2pfVEc_baCyiI5yX8C_DQORyjy6jiVrBJuVlosM&code_challenge_method=S256>https://accounts.google.com/o/oauth2/auth?client_id=517222506229-vsmmajv00ul0bs7p89v5m89qs8eb9359.apps.googleusercontent.com&scope=https%3A%2F%2Fwww.googleapis.com%2Fauth%2Fearthengine+https%3A%2F%2Fwww.googleapis.com%2Fauth%2Fdevstorage.full_control&redirect_uri=urn%3Aietf%3Awg%3Aoauth%3A2.0%3Aoob&response_type=code&code_challenge=fIPd2pfVEc_baCyiI5yX8C_DQORyjy6jiVrBJuVlosM&code_challenge_method=S256</a></p>\n",
       "        <p>The authorization workflow will generate a code, which you\n",
       "        should paste in the box below</p>\n",
       "        "
      ],
      "text/plain": [
       "<IPython.core.display.HTML object>"
      ]
     },
     "metadata": {},
     "output_type": "display_data"
    },
    {
     "name": "stdout",
     "output_type": "stream",
     "text": [
      "Enter verification code: 4/1AX4XfWgkuqU7K6ZUamUnO6rbfqPYgzsIvw3NHgzIX6UkEIgAmZTTh4mKQpI\n",
      "\n",
      "Successfully saved authorization token.\n"
     ]
    }
   ],
   "source": [
    "# Initialisie earth engine\n",
    "ee.Authenticate()\n",
    "ee.Initialize()"
   ]
  },
  {
   "cell_type": "code",
   "execution_count": 282,
   "id": "116c1cbd",
   "metadata": {},
   "outputs": [],
   "source": [
    "# magic command to render plots in notebook\n",
    "%matplotlib inline"
   ]
  },
  {
   "cell_type": "markdown",
   "id": "05b47ec2",
   "metadata": {},
   "source": [
    "### Broadleaf cover"
   ]
  },
  {
   "cell_type": "code",
   "execution_count": 444,
   "id": "b88715f0",
   "metadata": {},
   "outputs": [],
   "source": [
    "# Load a polygon of the UK so that we can clip the CORINE dataset\n",
    "ukPoly = ee.FeatureCollection('USDOS/LSIB_SIMPLE/2017') \\\n",
    "         .filter(ee.Filter.eq('country_co', 'UK'))\n",
    "\n",
    "# Load the Corine landcover categorisation for 2018 (the latest)\n",
    "# Each pixel represents 100m x 100m or 1 hectare\n",
    "# Select the landcover band and clip to the UK border\n",
    "corine = ee.Image('COPERNICUS/CORINE/V20/100m/2018') \\\n",
    "    .select('landcover') \\\n",
    "    .clipToCollection(ukPoly)\n",
    "\n",
    "# Select pixels that represent Broadleaf categorisation (311)\n",
    "mask = corine.eq(311)\n",
    "# Generate a broadleaf image by using the mask for 311\n",
    "broadleaf = mask.updateMask(mask).multiply(corine)"
   ]
  },
  {
   "cell_type": "code",
   "execution_count": 445,
   "id": "d3769f99",
   "metadata": {},
   "outputs": [],
   "source": [
    "# Create a map\n",
    "Map = geemap.Map()\n",
    "# Centre on the UK\n",
    "Map.setCenter(-1.2589, 51.7521, 8)\n",
    "# Plot the map\n",
    "Map.addLayer(broadleaf, {'palette' : 'red'}, 'Broadleaf', True)"
   ]
  },
  {
   "cell_type": "markdown",
   "id": "dfdff5d9",
   "metadata": {},
   "source": [
    "If we load the administrative boundariies for the Uk, we can plot them and then calculate the percentage of landcover within a county that is broadleaf woodland."
   ]
  },
  {
   "cell_type": "code",
   "execution_count": 446,
   "id": "861de238",
   "metadata": {},
   "outputs": [],
   "source": [
    "# Select UK Counties from the GAUL feature collection\n",
    "# \"U.K. of Great Britain and Northern Ireland\"\n",
    "\n",
    "uk = ee.FeatureCollection(\"FAO/GAUL_SIMPLIFIED_500m/2015/level2\") \\\n",
    "              .filter(ee.Filter.eq('ADM0_NAME', \"U.K. of Great Britain and Northern Ireland\") \\\n",
    ")"
   ]
  },
  {
   "cell_type": "markdown",
   "id": "d546aa2f",
   "metadata": {},
   "source": [
    "Let's visualise the broadleaf woodland and county boundaries"
   ]
  },
  {
   "cell_type": "code",
   "execution_count": 447,
   "id": "c6be6629",
   "metadata": {},
   "outputs": [
    {
     "data": {
      "application/vnd.jupyter.widget-view+json": {
       "model_id": "7269290d988b488f8c4d36a5a63917bc",
       "version_major": 2,
       "version_minor": 0
      },
      "text/plain": [
       "Map(center=[51.7521, -1.2589], controls=(WidgetControl(options=['position', 'transparent_bg'], widget=HBox(chi…"
      ]
     },
     "metadata": {},
     "output_type": "display_data"
    }
   ],
   "source": [
    "# Plot map\n",
    "Map.addLayer(uk, {}, 'uk counties')\n",
    "Map"
   ]
  },
  {
   "cell_type": "markdown",
   "id": "cb2726a2",
   "metadata": {},
   "source": [
    "What is the total area of broadleaf woodland within the UK? Let's start with the total area of the UK"
   ]
  },
  {
   "cell_type": "code",
   "execution_count": 448,
   "id": "c805e934",
   "metadata": {},
   "outputs": [
    {
     "name": "stdout",
     "output_type": "stream",
     "text": [
      "Total uk land area:  243266.3252841075  km2\n"
     ]
    }
   ],
   "source": [
    "# disolve feature collection into single polygon\n",
    "# then extract area\n",
    "# convert from m2 to km2\n",
    "area = uk.geometry().area().getInfo()/1e6\n",
    "print(\"Total uk land area: \", area, \" km2\")"
   ]
  },
  {
   "cell_type": "markdown",
   "id": "294dd5e0",
   "metadata": {},
   "source": [
    "Then we can work out the total area covered by broadleaf woodland"
   ]
  },
  {
   "cell_type": "code",
   "execution_count": 449,
   "id": "71352159",
   "metadata": {},
   "outputs": [],
   "source": [
    "areaImage = mask.multiply(ee.Image.pixelArea())\n",
    "area = areaImage.reduceRegion(\n",
    "    reducer   = ee.Reducer.sum(),\n",
    "    geometry  = uk.geometry(),\n",
    "    scale     = 100,\n",
    "    maxPixels = 1e10\n",
    "    )"
   ]
  },
  {
   "cell_type": "code",
   "execution_count": 450,
   "id": "f88c4249",
   "metadata": {},
   "outputs": [],
   "source": [
    "broadleafCover = area.getInfo()"
   ]
  },
  {
   "cell_type": "markdown",
   "id": "fc1b1063",
   "metadata": {},
   "source": [
    "What is the total area of broadleaf trees iin the UK?"
   ]
  },
  {
   "cell_type": "code",
   "execution_count": 451,
   "id": "da35644f",
   "metadata": {},
   "outputs": [
    {
     "name": "stdout",
     "output_type": "stream",
     "text": [
      "Total uk broadleaf forest area:  5454.368235294117  km2\n"
     ]
    }
   ],
   "source": [
    "print(\"Total uk broadleaf forest area: \", broadleafCover[\"landcover\"] / (1e6), \" km2\")"
   ]
  },
  {
   "cell_type": "markdown",
   "id": "2d4efca0",
   "metadata": {},
   "source": [
    "### Broadleaf woodland area by UK county"
   ]
  },
  {
   "cell_type": "markdown",
   "id": "9c89c0f7",
   "metadata": {},
   "source": [
    "Not let's calculate the percentage broadleaf cover for each UK county, and then order them"
   ]
  },
  {
   "cell_type": "code",
   "execution_count": 452,
   "id": "7ee68f7f",
   "metadata": {},
   "outputs": [],
   "source": [
    "# Define broadleaf mask for UK\n",
    "ukBroadleafImage = mask.multiply(ee.Image.pixelArea())\n",
    "\n",
    "# Functionn to map over counties (features) within UK featureCollection\n",
    "def mapCounties(county):\n",
    "    \n",
    "    # Calculate county area and set property\n",
    "    countyArea = county.geometry().area().divide(1e6).round()\n",
    "    # Set a property within the county feature to capture the county area\n",
    "    county = county.set('County_Area', countyArea)\n",
    "    \n",
    "    # Calculate broadleaf area within county\n",
    "    broadleafArea = ukBroadleafImage.reduceRegion(\n",
    "        reducer   = ee.Reducer.sum(),\n",
    "        geometry  = county.geometry(),\n",
    "        scale     = 100,\n",
    "        maxPixels = 1e10\n",
    "    ).get(\"landcover\")\n",
    "    \n",
    "    # Convert broadleaf area into km2\n",
    "    broadleafArea = ee.Number.float(broadleafArea).divide(1e6)\n",
    "    \n",
    "    # Set a property within the county feature to capture broadleaf area for the county\n",
    "    county = county.set('Broadleaf_Area', broadleafArea)\n",
    "    \n",
    "    # Percentage broadleaf\n",
    "    percentageBroadleaf = broadleafArea.divide(countyArea).multiply(100)\n",
    "    # Set a property within the county feature to capture the % broadleaf\n",
    "    county = county.set('Broadleaf_Per', percentageBroadleaf)\n",
    "\n",
    "    # return updated feature\n",
    "    return county\n",
    "    \n",
    "# Map over uk counties and calulcate the county area and the broadleaf woodland area within it\n",
    "broadleafAreaByCounty = uk.map(mapCounties)"
   ]
  },
  {
   "cell_type": "code",
   "execution_count": 453,
   "id": "6dc80d4d",
   "metadata": {},
   "outputs": [
    {
     "data": {
      "text/plain": [
       "5454.317529411764"
      ]
     },
     "execution_count": 453,
     "metadata": {},
     "output_type": "execute_result"
    }
   ],
   "source": [
    "broadleafAreaByCounty.aggregate_sum(\"Broadleaf_Area\").getInfo()"
   ]
  },
  {
   "cell_type": "code",
   "execution_count": 454,
   "id": "e8472611",
   "metadata": {},
   "outputs": [],
   "source": [
    "broadleafByCounty_df = geemap.ee_to_df(broadleafAreaByCounty)"
   ]
  },
  {
   "cell_type": "code",
   "execution_count": 455,
   "id": "6c65c928",
   "metadata": {
    "scrolled": false
   },
   "outputs": [
    {
     "data": {
      "text/html": [
       "<div>\n",
       "<style scoped>\n",
       "    .dataframe tbody tr th:only-of-type {\n",
       "        vertical-align: middle;\n",
       "    }\n",
       "\n",
       "    .dataframe tbody tr th {\n",
       "        vertical-align: top;\n",
       "    }\n",
       "\n",
       "    .dataframe thead th {\n",
       "        text-align: right;\n",
       "    }\n",
       "</style>\n",
       "<table border=\"1\" class=\"dataframe\">\n",
       "  <thead>\n",
       "    <tr style=\"text-align: right;\">\n",
       "      <th></th>\n",
       "      <th>ADM2_NAME</th>\n",
       "      <th>County_Area</th>\n",
       "      <th>Broadleaf_Area</th>\n",
       "      <th>Broadleaf_Per</th>\n",
       "    </tr>\n",
       "  </thead>\n",
       "  <tbody>\n",
       "    <tr>\n",
       "      <th>39</th>\n",
       "      <td>Surrey</td>\n",
       "      <td>1677</td>\n",
       "      <td>185.679176</td>\n",
       "      <td>11.072104</td>\n",
       "    </tr>\n",
       "    <tr>\n",
       "      <th>43</th>\n",
       "      <td>West Sussex</td>\n",
       "      <td>1940</td>\n",
       "      <td>173.617373</td>\n",
       "      <td>8.949349</td>\n",
       "    </tr>\n",
       "    <tr>\n",
       "      <th>18</th>\n",
       "      <td>Hampshire</td>\n",
       "      <td>3738</td>\n",
       "      <td>280.165137</td>\n",
       "      <td>7.495055</td>\n",
       "    </tr>\n",
       "    <tr>\n",
       "      <th>13</th>\n",
       "      <td>East Sussex</td>\n",
       "      <td>1742</td>\n",
       "      <td>115.605608</td>\n",
       "      <td>6.636372</td>\n",
       "    </tr>\n",
       "    <tr>\n",
       "      <th>2</th>\n",
       "      <td>Berkshire</td>\n",
       "      <td>1219</td>\n",
       "      <td>79.154510</td>\n",
       "      <td>6.493397</td>\n",
       "    </tr>\n",
       "    <tr>\n",
       "      <th>23</th>\n",
       "      <td>Kent</td>\n",
       "      <td>3694</td>\n",
       "      <td>236.598902</td>\n",
       "      <td>6.404951</td>\n",
       "    </tr>\n",
       "    <tr>\n",
       "      <th>92</th>\n",
       "      <td>West Glamorgan</td>\n",
       "      <td>818</td>\n",
       "      <td>47.270863</td>\n",
       "      <td>5.778834</td>\n",
       "    </tr>\n",
       "    <tr>\n",
       "      <th>3</th>\n",
       "      <td>Buckinghamshire</td>\n",
       "      <td>1901</td>\n",
       "      <td>100.002235</td>\n",
       "      <td>5.260507</td>\n",
       "    </tr>\n",
       "    <tr>\n",
       "      <th>15</th>\n",
       "      <td>Gloucestershire</td>\n",
       "      <td>2619</td>\n",
       "      <td>130.236824</td>\n",
       "      <td>4.972769</td>\n",
       "    </tr>\n",
       "    <tr>\n",
       "      <th>22</th>\n",
       "      <td>Isle of Wight</td>\n",
       "      <td>374</td>\n",
       "      <td>17.354902</td>\n",
       "      <td>4.640348</td>\n",
       "    </tr>\n",
       "  </tbody>\n",
       "</table>\n",
       "</div>"
      ],
      "text/plain": [
       "          ADM2_NAME  County_Area  Broadleaf_Area  Broadleaf_Per\n",
       "39           Surrey         1677      185.679176      11.072104\n",
       "43      West Sussex         1940      173.617373       8.949349\n",
       "18        Hampshire         3738      280.165137       7.495055\n",
       "13      East Sussex         1742      115.605608       6.636372\n",
       "2         Berkshire         1219       79.154510       6.493397\n",
       "23             Kent         3694      236.598902       6.404951\n",
       "92   West Glamorgan          818       47.270863       5.778834\n",
       "3   Buckinghamshire         1901      100.002235       5.260507\n",
       "15  Gloucestershire         2619      130.236824       4.972769\n",
       "22    Isle of Wight          374       17.354902       4.640348"
      ]
     },
     "execution_count": 455,
     "metadata": {},
     "output_type": "execute_result"
    }
   ],
   "source": [
    "broadleafByCounty_df[[\"ADM2_NAME\",\"County_Area\",\"Broadleaf_Area\",\"Broadleaf_Per\"]] \\\n",
    ".sort_values(\"Broadleaf_Per\", ascending=False) \\\n",
    ".head(10)"
   ]
  },
  {
   "cell_type": "markdown",
   "id": "71a6a711",
   "metadata": {},
   "source": [
    "Plot of percentage of broadleaf coverage across the UK"
   ]
  },
  {
   "cell_type": "code",
   "execution_count": 457,
   "id": "c322f59b",
   "metadata": {
    "scrolled": true
   },
   "outputs": [
    {
     "data": {
      "application/vnd.jupyter.widget-view+json": {
       "model_id": "7269290d988b488f8c4d36a5a63917bc",
       "version_major": 2,
       "version_minor": 0
      },
      "text/plain": [
       "Map(bottom=5751.0, center=[51.467696956223385, -1.8896484375000002], controls=(WidgetControl(options=['positio…"
      ]
     },
     "metadata": {},
     "output_type": "display_data"
    }
   ],
   "source": [
    "empty = ee.Image().byte()\n",
    "\n",
    "# Paint all the county polygon edges with the same number and width, display.\n",
    "outline = empty.paint(\n",
    "  featureCollection = broadleafAreaByCounty,\n",
    "  color = 'Broadleaf_Per'\n",
    ")\n",
    "visParams = {\n",
    "  'palette': ['white', 'green'],\n",
    "  'min': 0,\n",
    "  'max': 11,\n",
    "  'opacity': 1,\n",
    "}\n",
    "\n",
    "Map.addLayer(outline, visParams, 'broadleaf coverage')\n",
    "Map"
   ]
  },
  {
   "cell_type": "markdown",
   "id": "e03e62ad",
   "metadata": {},
   "source": [
    "### Broadleaf connectivity analysis"
   ]
  },
  {
   "cell_type": "code",
   "execution_count": null,
   "id": "df272d1a",
   "metadata": {},
   "outputs": [],
   "source": []
  }
 ],
 "metadata": {
  "kernelspec": {
   "display_name": "Python 3 (ipykernel)",
   "language": "python",
   "name": "python3"
  },
  "language_info": {
   "codemirror_mode": {
    "name": "ipython",
    "version": 3
   },
   "file_extension": ".py",
   "mimetype": "text/x-python",
   "name": "python",
   "nbconvert_exporter": "python",
   "pygments_lexer": "ipython3",
   "version": "3.9.7"
  }
 },
 "nbformat": 4,
 "nbformat_minor": 5
}
